{
 "cells": [
  {
   "cell_type": "markdown",
   "id": "ca3ca207",
   "metadata": {},
   "source": [
    "# Task 3: Customer Segmentation / Clustering"
   ]
  },
  {
   "cell_type": "markdown",
   "id": "0345b7ad",
   "metadata": {},
   "source": [
    "### 1. Import the library"
   ]
  },
  {
   "cell_type": "code",
   "execution_count": 1,
   "id": "b3a4f108",
   "metadata": {},
   "outputs": [],
   "source": [
    "import numpy as np\n",
    "import pandas as pd\n",
    "import matplotlib.pyplot as plt\n",
    "import seaborn as sns\n",
    "from sklearn.preprocessing import StandardScaler\n",
    "from sklearn.cluster import KMeans\n",
    "from sklearn.metrics import davies_bouldin_score"
   ]
  },
  {
   "cell_type": "markdown",
   "id": "9b9acc7a",
   "metadata": {},
   "source": [
    "### 2. Load the datasets"
   ]
  },
  {
   "cell_type": "code",
   "execution_count": 2,
   "id": "88878d07",
   "metadata": {},
   "outputs": [],
   "source": [
    "customers = pd.read_csv('Customers.csv')\n",
    "transactions = pd.read_csv('Transactions.csv')"
   ]
  },
  {
   "cell_type": "markdown",
   "id": "35787a72",
   "metadata": {},
   "source": [
    "### 3. Merge datasets for analysis"
   ]
  },
  {
   "cell_type": "code",
   "execution_count": 3,
   "id": "c4b47dbc",
   "metadata": {},
   "outputs": [],
   "source": [
    "customer_transactions = transactions.merge(customers, on='CustomerID')"
   ]
  },
  {
   "cell_type": "markdown",
   "id": "331c6570",
   "metadata": {},
   "source": [
    "### 4. Aggregate data for clustering"
   ]
  },
  {
   "cell_type": "code",
   "execution_count": 4,
   "id": "17fd2150",
   "metadata": {},
   "outputs": [],
   "source": [
    "customer_features = customer_transactions.groupby('CustomerID').agg({\n",
    "    'Quantity': 'sum',\n",
    "    'TotalValue': 'sum',\n",
    "    'Region': 'first'\n",
    "}).reset_index()"
   ]
  },
  {
   "cell_type": "markdown",
   "id": "d844e910",
   "metadata": {},
   "source": [
    "### 5. Encode categorical data (Region)"
   ]
  },
  {
   "cell_type": "code",
   "execution_count": 5,
   "id": "d4434950",
   "metadata": {},
   "outputs": [],
   "source": [
    "customer_features = pd.get_dummies(customer_features, columns=['Region'])"
   ]
  },
  {
   "cell_type": "markdown",
   "id": "94aaed36",
   "metadata": {},
   "source": [
    "### 6. Scale numerical features"
   ]
  },
  {
   "cell_type": "code",
   "execution_count": 6,
   "id": "2a214e5e",
   "metadata": {},
   "outputs": [],
   "source": [
    "scaler = StandardScaler()\n",
    "numerical_cols = ['Quantity', 'TotalValue']\n",
    "customer_features[numerical_cols] = scaler.fit_transform(customer_features[numerical_cols])"
   ]
  },
  {
   "cell_type": "markdown",
   "id": "fe507bb3",
   "metadata": {},
   "source": [
    "### 7. Prepare data for clustering"
   ]
  },
  {
   "cell_type": "code",
   "execution_count": 7,
   "id": "110d0365",
   "metadata": {},
   "outputs": [],
   "source": [
    "feature_matrix = customer_features.drop(columns=['CustomerID']).values"
   ]
  },
  {
   "cell_type": "markdown",
   "id": "3f56a50a",
   "metadata": {},
   "source": [
    "### 8. Perform clustering and evaluate DB Index "
   ]
  },
  {
   "cell_type": "code",
   "execution_count": 8,
   "id": "b7718be8",
   "metadata": {},
   "outputs": [],
   "source": [
    "best_db_index = float('inf')\n",
    "best_k = None\n",
    "best_model = None"
   ]
  },
  {
   "cell_type": "code",
   "execution_count": 9,
   "id": "d573422e",
   "metadata": {},
   "outputs": [
    {
     "name": "stdout",
     "output_type": "stream",
     "text": [
      "Number of Clusters: 2, DB Index: 0.9916\n",
      "Number of Clusters: 3, DB Index: 1.2912\n",
      "Number of Clusters: 4, DB Index: 1.4451\n",
      "Number of Clusters: 5, DB Index: 1.3541\n",
      "Number of Clusters: 6, DB Index: 1.1732\n",
      "Number of Clusters: 7, DB Index: 1.1622\n",
      "Number of Clusters: 8, DB Index: 0.9876\n",
      "Number of Clusters: 9, DB Index: 1.0214\n",
      "Number of Clusters: 10, DB Index: 0.9131\n",
      "Optimal Number of Clusters: 10, Best DB Index: 0.9131\n"
     ]
    },
    {
     "name": "stderr",
     "output_type": "stream",
     "text": [
      "C:\\Users\\tanma\\anaconda3\\lib\\site-packages\\sklearn\\cluster\\_kmeans.py:1429: UserWarning: KMeans is known to have a memory leak on Windows with MKL, when there are less chunks than available threads. You can avoid it by setting the environment variable OMP_NUM_THREADS=1.\n",
      "  warnings.warn(\n",
      "C:\\Users\\tanma\\anaconda3\\lib\\site-packages\\sklearn\\cluster\\_kmeans.py:1429: UserWarning: KMeans is known to have a memory leak on Windows with MKL, when there are less chunks than available threads. You can avoid it by setting the environment variable OMP_NUM_THREADS=1.\n",
      "  warnings.warn(\n",
      "C:\\Users\\tanma\\anaconda3\\lib\\site-packages\\sklearn\\cluster\\_kmeans.py:1429: UserWarning: KMeans is known to have a memory leak on Windows with MKL, when there are less chunks than available threads. You can avoid it by setting the environment variable OMP_NUM_THREADS=1.\n",
      "  warnings.warn(\n",
      "C:\\Users\\tanma\\anaconda3\\lib\\site-packages\\sklearn\\cluster\\_kmeans.py:1429: UserWarning: KMeans is known to have a memory leak on Windows with MKL, when there are less chunks than available threads. You can avoid it by setting the environment variable OMP_NUM_THREADS=1.\n",
      "  warnings.warn(\n",
      "C:\\Users\\tanma\\anaconda3\\lib\\site-packages\\sklearn\\cluster\\_kmeans.py:1429: UserWarning: KMeans is known to have a memory leak on Windows with MKL, when there are less chunks than available threads. You can avoid it by setting the environment variable OMP_NUM_THREADS=1.\n",
      "  warnings.warn(\n",
      "C:\\Users\\tanma\\anaconda3\\lib\\site-packages\\sklearn\\cluster\\_kmeans.py:1429: UserWarning: KMeans is known to have a memory leak on Windows with MKL, when there are less chunks than available threads. You can avoid it by setting the environment variable OMP_NUM_THREADS=1.\n",
      "  warnings.warn(\n",
      "C:\\Users\\tanma\\anaconda3\\lib\\site-packages\\sklearn\\cluster\\_kmeans.py:1429: UserWarning: KMeans is known to have a memory leak on Windows with MKL, when there are less chunks than available threads. You can avoid it by setting the environment variable OMP_NUM_THREADS=1.\n",
      "  warnings.warn(\n",
      "C:\\Users\\tanma\\anaconda3\\lib\\site-packages\\sklearn\\cluster\\_kmeans.py:1429: UserWarning: KMeans is known to have a memory leak on Windows with MKL, when there are less chunks than available threads. You can avoid it by setting the environment variable OMP_NUM_THREADS=1.\n",
      "  warnings.warn(\n",
      "C:\\Users\\tanma\\anaconda3\\lib\\site-packages\\sklearn\\cluster\\_kmeans.py:1429: UserWarning: KMeans is known to have a memory leak on Windows with MKL, when there are less chunks than available threads. You can avoid it by setting the environment variable OMP_NUM_THREADS=1.\n",
      "  warnings.warn(\n"
     ]
    }
   ],
   "source": [
    "for k in range(2, 11):\n",
    "    kmeans = KMeans(n_clusters=k, random_state=42)\n",
    "    labels = kmeans.fit_predict(feature_matrix)\n",
    "    db_index = davies_bouldin_score(feature_matrix, labels)\n",
    "    print(f'Number of Clusters: {k}, DB Index: {db_index:.4f}')\n",
    "\n",
    "    if db_index < best_db_index:\n",
    "        best_db_index = db_index\n",
    "        best_k = k\n",
    "        best_model = kmeans\n",
    "\n",
    "print(f'Optimal Number of Clusters: {best_k}, Best DB Index: {best_db_index:.4f}')"
   ]
  },
  {
   "cell_type": "markdown",
   "id": "90524e25",
   "metadata": {},
   "source": [
    "### 9. Assign cluster labels to customers"
   ]
  },
  {
   "cell_type": "code",
   "execution_count": 10,
   "id": "7f312088",
   "metadata": {},
   "outputs": [],
   "source": [
    "customer_features['Cluster'] = best_model.labels_"
   ]
  },
  {
   "cell_type": "markdown",
   "id": "a599cd95",
   "metadata": {},
   "source": [
    "### 10. Visualize clusters"
   ]
  },
  {
   "cell_type": "code",
   "execution_count": 11,
   "id": "df1a1dbe",
   "metadata": {},
   "outputs": [
    {
     "data": {
      "image/png": "[encoded data removed]",
      "text/plain": [
       "<Figure size 1000x600 with 1 Axes>"
      ]
     },
     "metadata": {},
     "output_type": "display_data"
    }
   ],
   "source": [
    "plt.figure(figsize=(10, 6))\n",
    "sns.scatterplot(\n",
    "    x=customer_features['Quantity'],\n",
    "    y=customer_features['TotalValue'],\n",
    "    hue=customer_features['Cluster'],\n",
    "    palette='viridis',\n",
    "    s=100\n",
    ")\n",
    "plt.title('Customer Clusters')\n",
    "plt.xlabel('Quantity (Scaled)')\n",
    "plt.ylabel('TotalValue (Scaled)')\n",
    "plt.legend(title='Cluster')\n",
    "plt.show()"
   ]
  },
  {
   "cell_type": "markdown",
   "id": "3bbeebe0",
   "metadata": {},
   "source": [
    "### 11. Save clustering results"
   ]
  },
  {
   "cell_type": "code",
   "execution_count": 12,
   "id": "d4391f93",
   "metadata": {},
   "outputs": [],
   "source": [
    "customer_features[['CustomerID', 'Cluster']].to_csv('Customer_Clusters.csv', index=False)"
   ]
  },
  {
   "cell_type": "markdown",
   "id": "544ad786",
   "metadata": {},
   "source": [
    "# Generate report"
   ]
  },
  {
   "cell_type": "code",
   "execution_count": 13,
   "id": "cbd349bd",
   "metadata": {},
   "outputs": [],
   "source": [
    "\n",
    "report = f'''\n",
    "Clustering Report:\n",
    "\n",
    "Optimal Number of Clusters: {best_k}\n",
    "Davies-Bouldin Index: {best_db_index:.4f}\n",
    "\n",
    "The clustering was performed using KMeans with scaled numerical features and one-hot encoded categorical data.\n",
    "Results and visualizations are saved in 'Customer_Clusters.csv' and displayed in the scatterplot above.\n",
    "'''"
   ]
  },
  {
   "cell_type": "code",
   "execution_count": 14,
   "id": "c118cded",
   "metadata": {},
   "outputs": [],
   "source": [
    "with open('Clustering_Report.txt', 'w') as f:\n",
    "    f.write(report)"
   ]
  },
  {
   "cell_type": "code",
   "execution_count": 15,
   "id": "697272ae",
   "metadata": {},
   "outputs": [
    {
     "name": "stdout",
     "output_type": "stream",
     "text": [
      "Clustering analysis complete. Results saved to 'Customer_Clusters.csv' and 'Clustering_Report.txt'.\n"
     ]
    }
   ],
   "source": [
    "print(\"Clustering analysis complete. Results saved to 'Customer_Clusters.csv' and 'Clustering_Report.txt'.\")"
   ]
  },
  {
   "cell_type": "code",
   "execution_count": 16,
   "id": "f2cb65e7",
   "metadata": {},
   "outputs": [],
   "source": [
    "df = pd.read_csv(\"Customer_Clusters.csv\")"
   ]
  },
  {
   "cell_type": "code",
   "execution_count": 17,
   "id": "5fddc6b1",
   "metadata": {},
   "outputs": [
    {
     "data": {
      "text/html": [
       "<div>\n",
       "<style scoped>\n",
       "    .dataframe tbody tr th:only-of-type {\n",
       "        vertical-align: middle;\n",
       "    }\n",
       "\n",
       "    .dataframe tbody tr th {\n",
       "        vertical-align: top;\n",
       "    }\n",
       "\n",
       "    .dataframe thead th {\n",
       "        text-align: right;\n",
       "    }\n",
       "</style>\n",
       "<table border=\"1\" class=\"dataframe\">\n",
       "  <thead>\n",
       "    <tr style=\"text-align: right;\">\n",
       "      <th></th>\n",
       "      <th>CustomerID</th>\n",
       "      <th>Cluster</th>\n",
       "    </tr>\n",
       "  </thead>\n",
       "  <tbody>\n",
       "    <tr>\n",
       "      <th>0</th>\n",
       "      <td>C0001</td>\n",
       "      <td>1</td>\n",
       "    </tr>\n",
       "    <tr>\n",
       "      <th>1</th>\n",
       "      <td>C0002</td>\n",
       "      <td>5</td>\n",
       "    </tr>\n",
       "    <tr>\n",
       "      <th>2</th>\n",
       "      <td>C0003</td>\n",
       "      <td>1</td>\n",
       "    </tr>\n",
       "    <tr>\n",
       "      <th>3</th>\n",
       "      <td>C0004</td>\n",
       "      <td>9</td>\n",
       "    </tr>\n",
       "    <tr>\n",
       "      <th>4</th>\n",
       "      <td>C0005</td>\n",
       "      <td>5</td>\n",
       "    </tr>\n",
       "    <tr>\n",
       "      <th>...</th>\n",
       "      <td>...</td>\n",
       "      <td>...</td>\n",
       "    </tr>\n",
       "    <tr>\n",
       "      <th>194</th>\n",
       "      <td>C0196</td>\n",
       "      <td>4</td>\n",
       "    </tr>\n",
       "    <tr>\n",
       "      <th>195</th>\n",
       "      <td>C0197</td>\n",
       "      <td>2</td>\n",
       "    </tr>\n",
       "    <tr>\n",
       "      <th>196</th>\n",
       "      <td>C0198</td>\n",
       "      <td>6</td>\n",
       "    </tr>\n",
       "    <tr>\n",
       "      <th>197</th>\n",
       "      <td>C0199</td>\n",
       "      <td>2</td>\n",
       "    </tr>\n",
       "    <tr>\n",
       "      <th>198</th>\n",
       "      <td>C0200</td>\n",
       "      <td>7</td>\n",
       "    </tr>\n",
       "  </tbody>\n",
       "</table>\n",
       "<p>199 rows × 2 columns</p>\n",
       "</div>"
      ],
      "text/plain": [
       "    CustomerID  Cluster\n",
       "0        C0001        1\n",
       "1        C0002        5\n",
       "2        C0003        1\n",
       "3        C0004        9\n",
       "4        C0005        5\n",
       "..         ...      ...\n",
       "194      C0196        4\n",
       "195      C0197        2\n",
       "196      C0198        6\n",
       "197      C0199        2\n",
       "198      C0200        7\n",
       "\n",
       "[199 rows x 2 columns]"
      ]
     },
     "execution_count": 17,
     "metadata": {},
     "output_type": "execute_result"
    }
   ],
   "source": [
    "df"
   ]
  },
  {
   "cell_type": "code",
   "execution_count": 18,
   "id": "19e82efb",
   "metadata": {},
   "outputs": [
    {
     "name": "stdout",
     "output_type": "stream",
     "text": [
      "\n",
      "Clustering Report:\n",
      "\n",
      "Optimal Number of Clusters: 10\n",
      "Davies-Bouldin Index: 0.9131\n",
      "\n",
      "The clustering was performed using KMeans with scaled numerical features and one-hot encoded categorical data.\n",
      "Results and visualizations are saved in 'Customer_Clusters.csv' and displayed in the scatterplot above.\n",
      "\n"
     ]
    }
   ],
   "source": [
    "with open('Clustering_Report.txt', 'r') as f:\n",
    "    print(f.read())"
   ]
  },
  {
   "cell_type": "code",
   "execution_count": 19,
   "id": "685b83eb",
   "metadata": {},
   "outputs": [
    {
     "name": "stdout",
     "output_type": "stream",
     "text": [
      "  CustomerID  Cluster\n",
      "0      C0001        1\n",
      "1      C0002        5\n",
      "2      C0003        1\n",
      "3      C0004        9\n",
      "4      C0005        5\n"
     ]
    }
   ],
   "source": [
    "print(df.head())"
   ]
  }
 ],
 "metadata": {
  "kernelspec": {
   "display_name": "Python 3 (ipykernel)",
   "language": "python",
   "name": "python3"
  },
  "language_info": {
   "codemirror_mode": {
    "name": "ipython",
    "version": 3
   },
   "file_extension": ".py",
   "mimetype": "text/x-python",
   "name": "python",
   "nbconvert_exporter": "python",
   "pygments_lexer": "ipython3",
   "version": "3.9.13"
  }
 },
 "nbformat": 4,
 "nbformat_minor": 5
}
