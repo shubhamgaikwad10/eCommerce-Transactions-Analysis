{
 "cells": [
  {
   "cell_type": "markdown",
   "id": "c52d0256",
   "metadata": {},
   "source": [
    "# Task 2: Lookalike Model"
   ]
  },
  {
   "cell_type": "markdown",
   "id": "b409b428",
   "metadata": {},
   "source": [
    "### 1. Import the library "
   ]
  },
  {
   "cell_type": "code",
   "execution_count": 1,
   "id": "b50093f9",
   "metadata": {},
   "outputs": [],
   "source": [
    "import numpy as np\n",
    "import pandas as pd\n",
    "from sklearn.metrics.pairwise import cosine_similarity\n",
    "from sklearn.preprocessing import StandardScaler"
   ]
  },
  {
   "cell_type": "markdown",
   "id": "8299518b",
   "metadata": {},
   "source": [
    "### 2. Load the datasets"
   ]
  },
  {
   "cell_type": "code",
   "execution_count": 2,
   "id": "ff8bfab6",
   "metadata": {},
   "outputs": [],
   "source": [
    "customers = pd.read_csv('Customers.csv')\n",
    "products = pd.read_csv('Products.csv')\n",
    "transactions = pd.read_csv('Transactions.csv')"
   ]
  },
  {
   "cell_type": "markdown",
   "id": "30d1cd48",
   "metadata": {},
   "source": [
    "### 3. Merge datasets for analysis"
   ]
  },
  {
   "cell_type": "code",
   "execution_count": 3,
   "id": "ddf75229",
   "metadata": {},
   "outputs": [],
   "source": [
    "merged_data = transactions.merge(customers, on='CustomerID').merge(products, on='ProductID')"
   ]
  },
  {
   "cell_type": "markdown",
   "id": "6339ae94",
   "metadata": {},
   "source": [
    "### 4. Prepare customer profiles"
   ]
  },
  {
   "cell_type": "code",
   "execution_count": 4,
   "id": "15ac23f2",
   "metadata": {},
   "outputs": [],
   "source": [
    "customer_features = merged_data.groupby('CustomerID').agg({\n",
    "    'Region': 'first',\n",
    "    'ProductID': lambda x: list(x),\n",
    "    'Quantity': 'sum',\n",
    "    'TotalValue': 'sum'\n",
    "}).reset_index()"
   ]
  },
  {
   "cell_type": "markdown",
   "id": "0ef2726f",
   "metadata": {},
   "source": [
    "### 5. Encode categorical data (Region)"
   ]
  },
  {
   "cell_type": "code",
   "execution_count": 5,
   "id": "edfa5db6",
   "metadata": {},
   "outputs": [],
   "source": [
    "customer_features = pd.get_dummies(customer_features, columns=['Region'])\n"
   ]
  },
  {
   "cell_type": "markdown",
   "id": "366edd95",
   "metadata": {},
   "source": [
    "### 6. Transform product purchases into binary features"
   ]
  },
  {
   "cell_type": "code",
   "execution_count": 6,
   "id": "35486d76",
   "metadata": {},
   "outputs": [],
   "source": [
    "product_matrix = pd.get_dummies(merged_data[['CustomerID', 'ProductID']], columns=['ProductID'])\n",
    "product_features = product_matrix.groupby('CustomerID').sum().reset_index()"
   ]
  },
  {
   "cell_type": "markdown",
   "id": "4c1f0a4b",
   "metadata": {},
   "source": [
    "### 7. Combine customer features and product features"
   ]
  },
  {
   "cell_type": "code",
   "execution_count": 7,
   "id": "223880f1",
   "metadata": {},
   "outputs": [],
   "source": [
    "combined_features = pd.merge(customer_features, product_features, on='CustomerID', how='inner')"
   ]
  },
  {
   "cell_type": "markdown",
   "id": "97eafe67",
   "metadata": {},
   "source": [
    "### 8. Scale numerical features"
   ]
  },
  {
   "cell_type": "code",
   "execution_count": 8,
   "id": "b277b151",
   "metadata": {},
   "outputs": [],
   "source": [
    "scaler = StandardScaler()\n",
    "numerical_cols = ['Quantity', 'TotalValue']\n",
    "combined_features[numerical_cols] = scaler.fit_transform(combined_features[numerical_cols])"
   ]
  },
  {
   "cell_type": "markdown",
   "id": "2a0b32d5",
   "metadata": {},
   "source": [
    "### 9. Compute similarity matrix"
   ]
  },
  {
   "cell_type": "code",
   "execution_count": 9,
   "id": "c8c23fb1",
   "metadata": {},
   "outputs": [],
   "source": [
    "feature_matrix = combined_features.drop(columns=['CustomerID', 'ProductID']).set_index(combined_features['CustomerID'])\n",
    "similarity_matrix = cosine_similarity(feature_matrix)\n",
    "similarity_df = pd.DataFrame(similarity_matrix, index=feature_matrix.index, columns=feature_matrix.index)"
   ]
  },
  {
   "cell_type": "markdown",
   "id": "052349f2",
   "metadata": {},
   "source": [
    "### 10. Generate lookalike recommendations"
   ]
  },
  {
   "cell_type": "code",
   "execution_count": 10,
   "id": "d198fc97",
   "metadata": {},
   "outputs": [],
   "source": [
    "lookalike_map = {}\n",
    "for customer_id in feature_matrix.index:\n",
    "    similar_customers = similarity_df[customer_id].sort_values(ascending=False).iloc[1:4]\n",
    "    lookalike_map[customer_id] = list(zip(similar_customers.index, similar_customers.values))"
   ]
  },
  {
   "cell_type": "markdown",
   "id": "a1b5f342",
   "metadata": {},
   "source": [
    "### 11. Filter for the first 20 customers"
   ]
  },
  {
   "cell_type": "code",
   "execution_count": 11,
   "id": "fa4042c2",
   "metadata": {},
   "outputs": [],
   "source": [
    "filtered_map = {cust_id: lookalike_map[cust_id] for cust_id in feature_matrix.index[:20]}"
   ]
  },
  {
   "cell_type": "markdown",
   "id": "44d3a83f",
   "metadata": {},
   "source": [
    "### 12. Save to Lookalike.csv"
   ]
  },
  {
   "cell_type": "code",
   "execution_count": 12,
   "id": "70c69b8f",
   "metadata": {},
   "outputs": [],
   "source": [
    "lookalike_df = pd.DataFrame([\n",
    "    {'cust_id': cust_id, 'lookalikes': str(lookalikes)}\n",
    "    for cust_id, lookalikes in filtered_map.items()\n",
    "])\n",
    "lookalike_df.to_csv('Lookalike.csv', index=False)"
   ]
  },
  {
   "cell_type": "code",
   "execution_count": 13,
   "id": "488570d5",
   "metadata": {},
   "outputs": [
    {
     "name": "stdout",
     "output_type": "stream",
     "text": [
      "Lookalike recommendations saved to 'Lookalike.csv'.\n"
     ]
    }
   ],
   "source": [
    "print(\"Lookalike recommendations saved to 'Lookalike.csv'.\")"
   ]
  },
  {
   "cell_type": "code",
   "execution_count": 14,
   "id": "3998cee8",
   "metadata": {},
   "outputs": [],
   "source": [
    "df = pd.read_csv(\"Lookalike.csv\")"
   ]
  },
  {
   "cell_type": "code",
   "execution_count": 15,
   "id": "bbba6031",
   "metadata": {},
   "outputs": [
    {
     "data": {
      "text/html": [
       "<div>\n",
       "<style scoped>\n",
       "    .dataframe tbody tr th:only-of-type {\n",
       "        vertical-align: middle;\n",
       "    }\n",
       "\n",
       "    .dataframe tbody tr th {\n",
       "        vertical-align: top;\n",
       "    }\n",
       "\n",
       "    .dataframe thead th {\n",
       "        text-align: right;\n",
       "    }\n",
       "</style>\n",
       "<table border=\"1\" class=\"dataframe\">\n",
       "  <thead>\n",
       "    <tr style=\"text-align: right;\">\n",
       "      <th></th>\n",
       "      <th>cust_id</th>\n",
       "      <th>lookalikes</th>\n",
       "    </tr>\n",
       "  </thead>\n",
       "  <tbody>\n",
       "    <tr>\n",
       "      <th>0</th>\n",
       "      <td>C0001</td>\n",
       "      <td>[('C0190', 0.49322853409460554), ('C0120', 0.3...</td>\n",
       "    </tr>\n",
       "    <tr>\n",
       "      <th>1</th>\n",
       "      <td>C0002</td>\n",
       "      <td>[('C0110', 0.4787020566267993), ('C0097', 0.47...</td>\n",
       "    </tr>\n",
       "    <tr>\n",
       "      <th>2</th>\n",
       "      <td>C0003</td>\n",
       "      <td>[('C0181', 0.5087183333495168), ('C0031', 0.40...</td>\n",
       "    </tr>\n",
       "    <tr>\n",
       "      <th>3</th>\n",
       "      <td>C0004</td>\n",
       "      <td>[('C0065', 0.5542858466644812), ('C0082', 0.49...</td>\n",
       "    </tr>\n",
       "    <tr>\n",
       "      <th>4</th>\n",
       "      <td>C0005</td>\n",
       "      <td>[('C0078', 0.6013720771239098), ('C0097', 0.60...</td>\n",
       "    </tr>\n",
       "    <tr>\n",
       "      <th>5</th>\n",
       "      <td>C0006</td>\n",
       "      <td>[('C0171', 0.5546482293033211), ('C0040', 0.38...</td>\n",
       "    </tr>\n",
       "    <tr>\n",
       "      <th>6</th>\n",
       "      <td>C0007</td>\n",
       "      <td>[('C0140', 0.668452101791043), ('C0078', 0.521...</td>\n",
       "    </tr>\n",
       "    <tr>\n",
       "      <th>7</th>\n",
       "      <td>C0008</td>\n",
       "      <td>[('C0109', 0.4049782890119175), ('C0059', 0.40...</td>\n",
       "    </tr>\n",
       "    <tr>\n",
       "      <th>8</th>\n",
       "      <td>C0009</td>\n",
       "      <td>[('C0060', 0.7514750519052317), ('C0014', 0.75...</td>\n",
       "    </tr>\n",
       "    <tr>\n",
       "      <th>9</th>\n",
       "      <td>C0010</td>\n",
       "      <td>[('C0132', 0.595598247411566), ('C0121', 0.511...</td>\n",
       "    </tr>\n",
       "    <tr>\n",
       "      <th>10</th>\n",
       "      <td>C0011</td>\n",
       "      <td>[('C0120', 0.35759333922373016), ('C0133', 0.3...</td>\n",
       "    </tr>\n",
       "    <tr>\n",
       "      <th>11</th>\n",
       "      <td>C0012</td>\n",
       "      <td>[('C0163', 0.5302226192500283), ('C0173', 0.45...</td>\n",
       "    </tr>\n",
       "    <tr>\n",
       "      <th>12</th>\n",
       "      <td>C0013</td>\n",
       "      <td>[('C0141', 0.5666034678558857), ('C0099', 0.54...</td>\n",
       "    </tr>\n",
       "    <tr>\n",
       "      <th>13</th>\n",
       "      <td>C0014</td>\n",
       "      <td>[('C0060', 0.878364909245844), ('C0128', 0.803...</td>\n",
       "    </tr>\n",
       "    <tr>\n",
       "      <th>14</th>\n",
       "      <td>C0015</td>\n",
       "      <td>[('C0058', 0.7802078654631572), ('C0033', 0.77...</td>\n",
       "    </tr>\n",
       "    <tr>\n",
       "      <th>15</th>\n",
       "      <td>C0016</td>\n",
       "      <td>[('C0066', 0.4409682637958514), ('C0187', 0.35...</td>\n",
       "    </tr>\n",
       "    <tr>\n",
       "      <th>16</th>\n",
       "      <td>C0017</td>\n",
       "      <td>[('C0104', 0.48255946203186406), ('C0075', 0.4...</td>\n",
       "    </tr>\n",
       "    <tr>\n",
       "      <th>17</th>\n",
       "      <td>C0018</td>\n",
       "      <td>[('C0065', 0.5297208415996593), ('C0087', 0.46...</td>\n",
       "    </tr>\n",
       "    <tr>\n",
       "      <th>18</th>\n",
       "      <td>C0019</td>\n",
       "      <td>[('C0197', 0.4455895902798864), ('C0073', 0.44...</td>\n",
       "    </tr>\n",
       "    <tr>\n",
       "      <th>19</th>\n",
       "      <td>C0020</td>\n",
       "      <td>[('C0058', 0.8615344712188334), ('C0033', 0.85...</td>\n",
       "    </tr>\n",
       "  </tbody>\n",
       "</table>\n",
       "</div>"
      ],
      "text/plain": [
       "   cust_id                                         lookalikes\n",
       "0    C0001  [('C0190', 0.49322853409460554), ('C0120', 0.3...\n",
       "1    C0002  [('C0110', 0.4787020566267993), ('C0097', 0.47...\n",
       "2    C0003  [('C0181', 0.5087183333495168), ('C0031', 0.40...\n",
       "3    C0004  [('C0065', 0.5542858466644812), ('C0082', 0.49...\n",
       "4    C0005  [('C0078', 0.6013720771239098), ('C0097', 0.60...\n",
       "5    C0006  [('C0171', 0.5546482293033211), ('C0040', 0.38...\n",
       "6    C0007  [('C0140', 0.668452101791043), ('C0078', 0.521...\n",
       "7    C0008  [('C0109', 0.4049782890119175), ('C0059', 0.40...\n",
       "8    C0009  [('C0060', 0.7514750519052317), ('C0014', 0.75...\n",
       "9    C0010  [('C0132', 0.595598247411566), ('C0121', 0.511...\n",
       "10   C0011  [('C0120', 0.35759333922373016), ('C0133', 0.3...\n",
       "11   C0012  [('C0163', 0.5302226192500283), ('C0173', 0.45...\n",
       "12   C0013  [('C0141', 0.5666034678558857), ('C0099', 0.54...\n",
       "13   C0014  [('C0060', 0.878364909245844), ('C0128', 0.803...\n",
       "14   C0015  [('C0058', 0.7802078654631572), ('C0033', 0.77...\n",
       "15   C0016  [('C0066', 0.4409682637958514), ('C0187', 0.35...\n",
       "16   C0017  [('C0104', 0.48255946203186406), ('C0075', 0.4...\n",
       "17   C0018  [('C0065', 0.5297208415996593), ('C0087', 0.46...\n",
       "18   C0019  [('C0197', 0.4455895902798864), ('C0073', 0.44...\n",
       "19   C0020  [('C0058', 0.8615344712188334), ('C0033', 0.85..."
      ]
     },
     "execution_count": 15,
     "metadata": {},
     "output_type": "execute_result"
    }
   ],
   "source": [
    "df"
   ]
  }
 ],
 "metadata": {
  "kernelspec": {
   "display_name": "Python 3 (ipykernel)",
   "language": "python",
   "name": "python3"
  },
  "language_info": {
   "codemirror_mode": {
    "name": "ipython",
    "version": 3
   },
   "file_extension": ".py",
   "mimetype": "text/x-python",
   "name": "python",
   "nbconvert_exporter": "python",
   "pygments_lexer": "ipython3",
   "version": "3.9.13"
  }
 },
 "nbformat": 4,
 "nbformat_minor": 5
}
